{
  "nbformat": 4,
  "nbformat_minor": 0,
  "metadata": {
    "colab": {
      "provenance": [],
      "authorship_tag": "ABX9TyNWPobcq6KDitsSTmujwC/0",
      "include_colab_link": true
    },
    "kernelspec": {
      "name": "python3",
      "display_name": "Python 3"
    },
    "language_info": {
      "name": "python"
    }
  },
  "cells": [
    {
      "cell_type": "markdown",
      "metadata": {
        "id": "view-in-github",
        "colab_type": "text"
      },
      "source": [
        "<a href=\"https://colab.research.google.com/github/AlexanderKClark/MAT421/blob/main/MAT421_HW9.ipynb\" target=\"_parent\"><img src=\"https://colab.research.google.com/assets/colab-badge.svg\" alt=\"Open In Colab\"/></a>"
      ]
    },
    {
      "cell_type": "markdown",
      "source": [
        "## MAT421 HW9 - Alexander Clark\n",
        "This homework covers the concepts in [21.4 in the textbook](https://pythonnumericalmethods.studentorg.berkeley.edu/notebooks/chapter21.04-Simpsons-Rule.html): **Simpson’s Rule**."
      ],
      "metadata": {
        "id": "xylCGFjybK60"
      }
    },
    {
      "cell_type": "markdown",
      "source": [
        "## 21.4 Simpson's Rule\n",
        "Given two intervals $[x_{i-1},x_i]$ and $[x_i,x_{i+1}]$, Simpson's Rule approximates the area under $f(x)$ over these subintervals by fitting a quadratic polynomial through the points $(x_{i-1},f(x_{i-1})), (x_i,f(x_i))$, and $(x_{i+1},f(x_{i+1}))$ and integrating the quadratic. Note that to use Simpson's Rule, one must have an even number of intervals and therefore an odd number of grid points.\n",
        "\n",
        "Consider the following example, which approximates $\\int\\limits_0^\\pi \\text{sin}(x)dx$ with 11 grid points."
      ],
      "metadata": {
        "id": "rH-saO2FbgTr"
      }
    },
    {
      "cell_type": "code",
      "source": [
        "import numpy as np\n",
        "\n",
        "a = 0\n",
        "b = np.pi\n",
        "n = 11\n",
        "h = (b - a) / (n - 1)\n",
        "x = np.linspace(a, b, n)\n",
        "f = np.sin(x)\n",
        "\n",
        "I_simp = (h/3) * (f[0] + 2*sum(f[:n-2:2]) \\\n",
        "            + 4*sum(f[1:n-1:2]) + f[n-1])\n",
        "err_simp = 2 - I_simp\n",
        "\n",
        "print(I_simp)\n",
        "print(err_simp)"
      ],
      "metadata": {
        "colab": {
          "base_uri": "https://localhost:8080/"
        },
        "id": "kJtomUvleSVo",
        "outputId": "c36f7431-78b2-4dbc-db6b-2d030b3cd351"
      },
      "execution_count": 1,
      "outputs": [
        {
          "output_type": "stream",
          "name": "stdout",
          "text": [
            "2.0001095173150043\n",
            "-0.00010951731500430384\n"
          ]
        }
      ]
    }
  ]
}