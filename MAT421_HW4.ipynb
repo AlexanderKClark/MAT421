{
  "nbformat": 4,
  "nbformat_minor": 0,
  "metadata": {
    "colab": {
      "provenance": [],
      "authorship_tag": "ABX9TyOHaoaOD8sTSKX1a3BlNWMu",
      "include_colab_link": true
    },
    "kernelspec": {
      "name": "python3",
      "display_name": "Python 3"
    },
    "language_info": {
      "name": "python"
    }
  },
  "cells": [
    {
      "cell_type": "markdown",
      "metadata": {
        "id": "view-in-github",
        "colab_type": "text"
      },
      "source": [
        "<a href=\"https://colab.research.google.com/github/AlexanderKClark/MAT421/blob/main/MAT421_HW4.ipynb\" target=\"_parent\"><img src=\"https://colab.research.google.com/assets/colab-badge.svg\" alt=\"Open In Colab\"/></a>"
      ]
    },
    {
      "cell_type": "markdown",
      "source": [],
      "metadata": {
        "id": "Wbe2uCr2lofF"
      }
    },
    {
      "cell_type": "markdown",
      "source": [
        "## MAT421 HW4 - Alexander Clark\n",
        "This homework covers the concepts in [Chapter 19 of the textbook](https://pythonnumericalmethods.studentorg.berkeley.edu/notebooks/chapter19.00-Root-Finding.html): **Root Finding Problem Statement**, **Tolerance**, **Bisection Method**, **Newton-Raphson Method**, and **Root Finding in Python**."
      ],
      "metadata": {
        "id": "RVi8D-MLlsd0"
      }
    },
    {
      "cell_type": "markdown",
      "source": [
        "## 19.1 Root Finding Problem Statement\n",
        "Determining analytic solutions to some functions can be difficult, and it can be beneficial to generate a numerical approximation of a given root so long as the limitations in doing so is understood.\n",
        "\n",
        "For example, consider the roots of $f(x)=\\text{cos}(x)-x$."
      ],
      "metadata": {
        "id": "BhhVNdC5KP2U"
      }
    },
    {
      "cell_type": "code",
      "source": [
        "import numpy as np\n",
        "from scipy import optimize\n",
        "\n",
        "f = lambda x: np.cos(x) - x\n",
        "r = optimize.fsolve(f, -2)\n",
        "print(\"r =\", r)\n",
        "\n",
        "# Verify the solution is a root\n",
        "result = f(r)\n",
        "print(\"result=\", result)"
      ],
      "metadata": {
        "colab": {
          "base_uri": "https://localhost:8080/"
        },
        "id": "AIwiFsL4K_Cv",
        "outputId": "b3b7b1ed-065c-42a6-e02a-4bbb053b2c2e"
      },
      "execution_count": 7,
      "outputs": [
        {
          "output_type": "stream",
          "name": "stdout",
          "text": [
            "r = [0.73908513]\n",
            "result= [0.]\n"
          ]
        }
      ]
    },
    {
      "cell_type": "markdown",
      "source": [
        "The function $f(x)=\\frac{1}{x}$ has no root, and when *fsolve* tries to compute the root *full_output* is a boolean argument that can be added to *fsolve* to troubleshoot."
      ],
      "metadata": {
        "id": "Kcbkx3q-S04T"
      }
    },
    {
      "cell_type": "code",
      "source": [
        "f = lambda x: 1/x\n",
        "\n",
        "r, infodict, ier, mesg = optimize.fsolve(f, -2, full_output=True)\n",
        "print(\"r =\", r)\n",
        "\n",
        "result = f(r)\n",
        "print(\"result=\", result)\n",
        "\n",
        "print(mesg)"
      ],
      "metadata": {
        "colab": {
          "base_uri": "https://localhost:8080/"
        },
        "id": "83oY0hp3Tu1Y",
        "outputId": "13501549-0700-421a-e688-1ffa57123e6b"
      },
      "execution_count": 8,
      "outputs": [
        {
          "output_type": "stream",
          "name": "stdout",
          "text": [
            "r = [-3.52047359e+83]\n",
            "result= [-2.84052692e-84]\n",
            "The number of calls to function has reached maxfev = 400.\n"
          ]
        }
      ]
    },
    {
      "cell_type": "markdown",
      "source": [
        "## 19.2 Tolerance\n",
        "\n",
        "Tolerance is the level of error that is considered acceptable for some given application. A program has converged to a solution when it has found a solution with an error smaller than the tolerance.\n",
        "\n",
        "Let $e=|f(x)|$ and $\\text{tol}$ be the acceptable error. Then, since $f(x)=x^2+\\frac{\\text{tol}}{2}$ has no real roots, $|f(0)|=\\frac{\\text{tol}}{2}$ is an acceptable solution for a root finding program.\n",
        "\n",
        "Notice that the tolerance and converging criteria must be considered carefully."
      ],
      "metadata": {
        "id": "HFqF3iF9Tw6i"
      }
    },
    {
      "cell_type": "markdown",
      "source": [
        "## 19.3 Bisection Method\n",
        "\n",
        "The bisection method uses the intermediate value theorem to find roots. Let $f(x)$ be a continuous function and let $a,b\\in\\mathbb{R}$ such that $a< b$. Assume WLOG that $f(a)> 0$ and $f(b)< 0$. Then, by the intermediate value theorem, there exists a root on the interval $(a,b)$. Let $m=\\frac{b+a}{2}$ be the midpoint between $a$ and $b$. If $f(m)=0$ or if it is close enough such that it is less than the tolerance, then $m$ is a root. If $f(m)$ is positive, then the root is contained in the interval $(m,b)$. If $f(m)$ is negative, then the root is contained in the interval $(a,m)$."
      ],
      "metadata": {
        "id": "zHUpIIdMZC45"
      }
    },
    {
      "cell_type": "code",
      "source": [
        "import numpy as np\n",
        "\n",
        "def my_bisection(f, a, b, tol):\n",
        "    # approximates a root, R, of f bounded\n",
        "    # by a and b to within tolerance\n",
        "    # | f(m) | < tol with m the midpoint\n",
        "    # between a and b Recursive implementation\n",
        "\n",
        "    # check if a and b bound a root\n",
        "    if np.sign(f(a)) == np.sign(f(b)):\n",
        "        raise Exception(\n",
        "         \"The scalars a and b do not bound a root\")\n",
        "\n",
        "    # get midpoint\n",
        "    m = (a + b)/2\n",
        "\n",
        "    if np.abs(f(m)) < tol:\n",
        "        # stopping condition, report m as root\n",
        "        return m\n",
        "    elif np.sign(f(a)) == np.sign(f(m)):\n",
        "        # case where m is an improvement on a.\n",
        "        # Make recursive call with a = m\n",
        "        return my_bisection(f, m, b, tol)\n",
        "    elif np.sign(f(b)) == np.sign(f(m)):\n",
        "        # case where m is an improvement on b.\n",
        "        # Make recursive call with b = m\n",
        "        return my_bisection(f, a, m, tol)"
      ],
      "metadata": {
        "id": "VDMabaXHadkL"
      },
      "execution_count": 9,
      "outputs": []
    },
    {
      "cell_type": "markdown",
      "source": [
        "$\\sqrt{2}$ can be computed as the root of the function $f(x)=x^2-2$. We know $f(0)< 0$ and $f(2)>2$, so they are acceptable bounds to start with."
      ],
      "metadata": {
        "id": "0bRvyNOLahWS"
      }
    },
    {
      "cell_type": "code",
      "source": [
        "f = lambda x: x**2 - 2\n",
        "\n",
        "r1 = my_bisection(f, 0, 2, 0.1)\n",
        "print(\"r1 =\", r1)\n",
        "r01 = my_bisection(f, 0, 2, 0.01)\n",
        "print(\"r01 =\", r01)\n",
        "\n",
        "print(\"f(r1) =\", f(r1))\n",
        "print(\"f(r01) =\", f(r01))"
      ],
      "metadata": {
        "colab": {
          "base_uri": "https://localhost:8080/"
        },
        "id": "jh-G5_0zahuk",
        "outputId": "313c3866-10d0-41da-da4f-a2bb1de68dda"
      },
      "execution_count": 10,
      "outputs": [
        {
          "output_type": "stream",
          "name": "stdout",
          "text": [
            "r1 = 1.4375\n",
            "r01 = 1.4140625\n",
            "f(r1) = 0.06640625\n",
            "f(r01) = -0.00042724609375\n"
          ]
        }
      ]
    },
    {
      "cell_type": "code",
      "source": [
        "my_bisection(f, 2, 4, 0.01)"
      ],
      "metadata": {
        "colab": {
          "base_uri": "https://localhost:8080/",
          "height": 267
        },
        "id": "aVc3fmtmamFk",
        "outputId": "771afc1c-ba6c-4540-f63e-bbc86c294a2b"
      },
      "execution_count": 11,
      "outputs": [
        {
          "output_type": "error",
          "ename": "Exception",
          "evalue": "The scalars a and b do not bound a root",
          "traceback": [
            "\u001b[0;31m---------------------------------------------------------------------------\u001b[0m",
            "\u001b[0;31mException\u001b[0m                                 Traceback (most recent call last)",
            "\u001b[0;32m<ipython-input-11-4158b7a9ae67>\u001b[0m in \u001b[0;36m<cell line: 0>\u001b[0;34m()\u001b[0m\n\u001b[0;32m----> 1\u001b[0;31m \u001b[0mmy_bisection\u001b[0m\u001b[0;34m(\u001b[0m\u001b[0mf\u001b[0m\u001b[0;34m,\u001b[0m \u001b[0;36m2\u001b[0m\u001b[0;34m,\u001b[0m \u001b[0;36m4\u001b[0m\u001b[0;34m,\u001b[0m \u001b[0;36m0.01\u001b[0m\u001b[0;34m)\u001b[0m\u001b[0;34m\u001b[0m\u001b[0;34m\u001b[0m\u001b[0m\n\u001b[0m",
            "\u001b[0;32m<ipython-input-9-36f06123e87c>\u001b[0m in \u001b[0;36mmy_bisection\u001b[0;34m(f, a, b, tol)\u001b[0m\n\u001b[1;32m      9\u001b[0m     \u001b[0;31m# check if a and b bound a root\u001b[0m\u001b[0;34m\u001b[0m\u001b[0;34m\u001b[0m\u001b[0m\n\u001b[1;32m     10\u001b[0m     \u001b[0;32mif\u001b[0m \u001b[0mnp\u001b[0m\u001b[0;34m.\u001b[0m\u001b[0msign\u001b[0m\u001b[0;34m(\u001b[0m\u001b[0mf\u001b[0m\u001b[0;34m(\u001b[0m\u001b[0ma\u001b[0m\u001b[0;34m)\u001b[0m\u001b[0;34m)\u001b[0m \u001b[0;34m==\u001b[0m \u001b[0mnp\u001b[0m\u001b[0;34m.\u001b[0m\u001b[0msign\u001b[0m\u001b[0;34m(\u001b[0m\u001b[0mf\u001b[0m\u001b[0;34m(\u001b[0m\u001b[0mb\u001b[0m\u001b[0;34m)\u001b[0m\u001b[0;34m)\u001b[0m\u001b[0;34m:\u001b[0m\u001b[0;34m\u001b[0m\u001b[0;34m\u001b[0m\u001b[0m\n\u001b[0;32m---> 11\u001b[0;31m         raise Exception(\n\u001b[0m\u001b[1;32m     12\u001b[0m          \"The scalars a and b do not bound a root\")\n\u001b[1;32m     13\u001b[0m \u001b[0;34m\u001b[0m\u001b[0m\n",
            "\u001b[0;31mException\u001b[0m: The scalars a and b do not bound a root"
          ]
        }
      ]
    },
    {
      "cell_type": "markdown",
      "source": [
        "## 19.4 Newton-Raphson Method\n",
        "Let $f(x)$ be a smooth and continuous function and let $x_r$ be an unknown root of $f(x)$. Suppose that $x_0$ is a guess for $x_r$. If $x_0 \\neq x_r$, then we would want to find a $x_1$ that is closer to the root. We can let $x_1$ be the intersection of the x-axis and the linear approximation of $f(x)$ around $x_0$. In other words,\n",
        "\n",
        "\\begin{equation*}\n",
        "f(x) \\approx f(x_0)+f'(x_0)(x-x_0) \\implies x_1=x_0-\\frac{f(x_0)}{f'(x_0)}.\n",
        "\\end{equation*}\n",
        "\n",
        "A general Newton step computes an improved guess, $x_i$, using $x_{i-1}$ and is computed by $x_i=x_{i-1}-\\frac{g(x_{i-1}}{g'(x_{i-1})}$."
      ],
      "metadata": {
        "id": "EOX1kIqRdie9"
      }
    },
    {
      "cell_type": "markdown",
      "source": [
        "If we again use $f(x)=x^2-2$ and let $x_0=1.4$ be the starting point, then we have:  \n",
        "\n",
        "\\begin{equation*}\n",
        "x=1.4-\\frac{1.4^2-2}{2(1.4}=1.4142857142857144.\n",
        "\\end{equation*}"
      ],
      "metadata": {
        "id": "IIGwddUBhJ-T"
      }
    },
    {
      "cell_type": "code",
      "source": [
        "import numpy as np\n",
        "\n",
        "f = lambda x: x**2 - 2\n",
        "f_prime = lambda x: 2*x\n",
        "newton_raphson = 1.4 - (f(1.4))/(f_prime(1.4))\n",
        "\n",
        "print(\"newton_raphson =\", newton_raphson)\n",
        "print(\"sqrt(2) =\", np.sqrt(2))\n",
        "print(\"error =\", abs(np.sqrt(2) - newton_raphson))"
      ],
      "metadata": {
        "colab": {
          "base_uri": "https://localhost:8080/"
        },
        "id": "ks0qFhmvgef6",
        "outputId": "f8cf4efc-83de-4be9-fb9e-8d1a688b176f"
      },
      "execution_count": 16,
      "outputs": [
        {
          "output_type": "stream",
          "name": "stdout",
          "text": [
            "newton_raphson = 1.4142857142857144\n",
            "sqrt(2) = 1.4142135623730951\n",
            "error = 7.215191261922271e-05\n"
          ]
        }
      ]
    },
    {
      "cell_type": "code",
      "source": [
        "def my_newton(f, df, x0, tol):\n",
        "    # output is an estimation of the root of f\n",
        "    # using the Newton Raphson method\n",
        "    # recursive implementation\n",
        "    if abs(f(x0)) < tol:\n",
        "        return x0\n",
        "    else:\n",
        "        return my_newton(f, df, x0 - f(x0)/df(x0), tol)"
      ],
      "metadata": {
        "id": "1U6E87PBg9rd"
      },
      "execution_count": 17,
      "outputs": []
    },
    {
      "cell_type": "code",
      "source": [
        "estimate = my_newton(f, f_prime, 1.5, 1e-6)\n",
        "print(\"estimate =\", estimate)\n",
        "print(\"sqrt(2) =\", np.sqrt(2))"
      ],
      "metadata": {
        "colab": {
          "base_uri": "https://localhost:8080/"
        },
        "id": "fDUwD20bg-xm",
        "outputId": "09df3a5f-8a84-47b6-c118-83da37bedb2d"
      },
      "execution_count": 18,
      "outputs": [
        {
          "output_type": "stream",
          "name": "stdout",
          "text": [
            "estimate = 1.4142135623746899\n",
            "sqrt(2) = 1.4142135623730951\n"
          ]
        }
      ]
    },
    {
      "cell_type": "markdown",
      "source": [
        "##19.5 Root Finding in Python\n",
        "\n",
        "Python has existing root-finding functions. One such example is *f_solve* from *scipy.optimize*. You can find the documentation [here](https://docs.scipy.org/doc/scipy/reference/generated/scipy.optimize.fsolve.html)."
      ],
      "metadata": {
        "id": "0r7w3I7ahGKa"
      }
    },
    {
      "cell_type": "markdown",
      "source": [
        "Suppose we want to find all roots of the function $f(x)=x^3-100x^2-x+100$ using *f_solve*."
      ],
      "metadata": {
        "id": "Rf8rpuWWhzUG"
      }
    },
    {
      "cell_type": "code",
      "source": [
        "from scipy.optimize import fsolve"
      ],
      "metadata": {
        "id": "IBzIyzqch-Le"
      },
      "execution_count": 19,
      "outputs": []
    },
    {
      "cell_type": "code",
      "source": [
        "f = lambda x: x**3-100*x**2-x+100\n",
        "\n",
        "fsolve(f, [2, 80])"
      ],
      "metadata": {
        "colab": {
          "base_uri": "https://localhost:8080/"
        },
        "id": "KFSeKr3OiAlc",
        "outputId": "d5469af5-8ee4-4867-efe0-506092325f8b"
      },
      "execution_count": 27,
      "outputs": [
        {
          "output_type": "execute_result",
          "data": {
            "text/plain": [
              "array([  1., 100.])"
            ]
          },
          "metadata": {},
          "execution_count": 27
        }
      ]
    }
  ]
}