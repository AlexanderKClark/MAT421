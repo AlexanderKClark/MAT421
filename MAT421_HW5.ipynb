{
  "nbformat": 4,
  "nbformat_minor": 0,
  "metadata": {
    "colab": {
      "provenance": [],
      "authorship_tag": "ABX9TyMm/vTwjxPCVWcL31d6ysad",
      "include_colab_link": true
    },
    "kernelspec": {
      "name": "python3",
      "display_name": "Python 3"
    },
    "language_info": {
      "name": "python"
    }
  },
  "cells": [
    {
      "cell_type": "markdown",
      "metadata": {
        "id": "view-in-github",
        "colab_type": "text"
      },
      "source": [
        "<a href=\"https://colab.research.google.com/github/AlexanderKClark/MAT421/blob/main/MAT421_HW5ipynb.ipynb\" target=\"_parent\"><img src=\"https://colab.research.google.com/assets/colab-badge.svg\" alt=\"Open In Colab\"/></a>"
      ]
    },
    {
      "cell_type": "markdown",
      "source": [
        "## MAT421 HW5 - Alexander Clark\n",
        "This homework covers the contents of 1.1 through 1.3 of the [lecture notes](https://canvas.asu.edu/courses/208345/files/99130204) and uses the relevent contents from the [textbook](https://pythonnumericalmethods.studentorg.berkeley.edu/notebooks/Index.html)."
      ],
      "metadata": {
        "id": "SsaUW4NMEdmz"
      }
    },
    {
      "cell_type": "markdown",
      "source": [
        "##1.1 Introduction\n",
        "Linear algebra plays a particularly important role in the numerous discplines. This will cover vector spaces, orthogonality, eigenvalues, matrix decomposition, and linear regression."
      ],
      "metadata": {
        "id": "UYe0ZnfhOIKh"
      }
    },
    {
      "cell_type": "markdown",
      "source": [
        "## 1.2 Elements of Linear Algebra\n",
        "**Definition**: A *linear combination* in linear algebra is a new vector constructed from a subset by multiplying each vector by a constant and adding the results.\n",
        "\n",
        "\n",
        "**Definition**: A *linear subspace* of $V$ is a subset $U ⊆ V$\n",
        "that is closed under vector addition and scalar multiplication. That is, for all\n",
        "$u_1, u_2 \\in U$ and\n",
        "$α \\in R$, it holds that\n",
        "$u_1 + u_2 \\in U$, and\n",
        "$α \\cdot u_1 \\in U$.\n",
        "\n",
        "\n",
        "**Definition**: Let $w_1,\\dots, w_m \\in V$. The *span* of ${w_1,\\dots, w_m}$, denoted $\\text{span}(w_1,\\dots, w_m)$, is the set of all linear combinations of the $w_{j}$’s. That is,\n",
        "$\\text{span}(w_1,\\dots , w_m) = \\displaystyle{\\bigg\\{∑\\limits_{j=1}^m a_jw_j:a_1\\dots,a_m\\in\\mathbb{R}\\bigg\\}}$.\n",
        "\n",
        "**Definition**: Let $A \\in \\mathbb{R}^{n×m}$ be an $n×m$ matrix with columns\n",
        "$a_1,\\dots, a_m \\in \\mathbb{R}^n$. The *column space* of $A$, denoted col$(A)$, is the span of the\n",
        "columns of $A$, that is, col$(A) = \\text{span}(a_1,\\dots , a_m) \\in \\mathbb{R}^n$.\n",
        "\n",
        "**Definition**: A list of vectors $u_1, \\dots, u_m$ is *linearly\n",
        "independent* if none of them can be written as a linear combination of the\n",
        "others, that is,\n",
        "$∀i, u_i ∉ \\text{span}({uj: j \\neq i})$.\n",
        "A list of vectors is called linearly dependent if it is not linearly independent."
      ],
      "metadata": {
        "id": "1RnuD4EbPwkG"
      }
    },
    {
      "cell_type": "code",
      "source": [
        "import numpy as np\n",
        "from numpy.linalg import det\n",
        "\n",
        "a=np.array([[1,3,5],[3,9,0],[9,8,4]])\n",
        "np.linalg.det(a)"
      ],
      "metadata": {
        "colab": {
          "base_uri": "https://localhost:8080/"
        },
        "id": "L-9qlSBrn9XM",
        "outputId": "53d95391-bc76-44e9-f8c0-92b24da6706d"
      },
      "execution_count": 8,
      "outputs": [
        {
          "output_type": "execute_result",
          "data": {
            "text/plain": [
              "-285.00000000000006"
            ]
          },
          "metadata": {},
          "execution_count": 8
        }
      ]
    },
    {
      "cell_type": "markdown",
      "source": [
        "And therefore the system corresponding to $\n",
        "\\begin{bmatrix}\n",
        "1 & 3 & 5 \\\\\n",
        "3 & 9 & 0 \\\\\n",
        "9 & 8 & 4\n",
        "\\end{bmatrix}\n",
        "$is linearly independent since the determinant is nonzero.\n",
        "\n",
        "**Definition**: Let $U$ be a linear subspace of $V$ . A *basis* of $U$\n",
        "is a list of vectors $u_1,\\dots, u_m$ in $U$ that: span $U$, that is, $U = \\text{span}(u_1, \\dots, u_m)$\n",
        "and are linearly independent.\n",
        "\n",
        "**Theorem**: Let $U$ be a linear subspace of $V$. Any\n",
        "basis of $U$ always has the same number of elements. All bases of $U$ have the same length, that is, the same number of elements. We call this number the *dimension* of $U$ and denote it $\\text{dim}(U)$.\n",
        "\n",
        "**Definition**: A list of vectors ${u_1,\\dots, u_m}$ is *orthonormal* if the $u_i$’s are pairwise orthogonal and each has norm 1, that is for all $i$ and all $j \\neq i$,\n",
        "$⟨u_i, u_j⟩ = 0$, and $||u_i|| = 1$.\n",
        "\n",
        "**Theorem**: Let $\\mathscr{U}⊆V$ be a linear subspace with orthonormal basis $q_1,\\dots,q_m$ ane let $v\\in V$. For any $u∈\\mathscr{U}$,\n",
        "\n",
        "$\n",
        "\\begin{equation*}\n",
        "||v-\\mathscr{P}_{\\mathscr{U}}v||\\leq||v-u||.\n",
        "\\end{equation*}\n",
        "$\n",
        "\n",
        "**Definition**: Let $A ∈ R^{d×d}$ be a square\n",
        "matrix. Then\n",
        "$λ \\in \\mathbb{R}$ is an eigenvalue of $A$ if there exists a nonzero vector $x \\neq 0$\n",
        "such that\n",
        "$Ax = λ x$.\n",
        "The vector $x$ is referred to as an eigenvector."
      ],
      "metadata": {
        "id": "_LEH4NjqoG2M"
      }
    },
    {
      "cell_type": "markdown",
      "source": [
        "## 1.3 Linear Regression\n",
        "QR decomposition is a procedure to solve linear least squares problems."
      ],
      "metadata": {
        "id": "U3AaYW93lFMx"
      }
    },
    {
      "cell_type": "code",
      "source": [
        "import numpy as np\n",
        "from numpy.linalg import qr\n",
        "\n",
        "a=np.array([[1,3,5],[3,9,0],[9,8,4]])\n",
        "p=[5,7,2,10]\n",
        "\n",
        "np.linalg.qr(a)"
      ],
      "metadata": {
        "colab": {
          "base_uri": "https://localhost:8080/"
        },
        "id": "svV0Dmoymie0",
        "outputId": "9a89997a-4bc6-48d9-a9de-575a22769eac"
      },
      "execution_count": 7,
      "outputs": [
        {
          "output_type": "execute_result",
          "data": {
            "text/plain": [
              "QRResult(Q=array([[-1.04828484e-01, -2.98347095e-01, -9.48683298e-01],\n",
              "       [-3.14485451e-01, -8.95041285e-01,  3.16227766e-01],\n",
              "       [-9.43456353e-01,  3.31496772e-01,  3.33066907e-16]]), R=array([[ -9.53939201, -10.69250533,  -4.29796783],\n",
              "       [  0.        ,  -6.29843867,  -0.16574839],\n",
              "       [  0.        ,   0.        ,  -4.74341649]]))"
            ]
          },
          "metadata": {},
          "execution_count": 7
        }
      ]
    },
    {
      "cell_type": "code",
      "source": [
        "import numpy as np\n",
        "from scipy import optimize\n",
        "import matplotlib.pyplot as plt\n",
        "\n",
        "plt.style.use('seaborn-v0_8-whitegrid')\n",
        "\n",
        "# generate x and y\n",
        "x = np.linspace(0, 1, 101)\n",
        "y = 1 + x + x * np.random.random(len(x))\n",
        "\n",
        "# assemble matrix A\n",
        "A = np.vstack([x, np.ones(len(x))]).T\n",
        "\n",
        "# turn y into a column vector\n",
        "y = y[:, np.newaxis]\n",
        "\n",
        "pinv = np.linalg.pinv(A)\n",
        "alpha = pinv.dot(y)\n",
        "print(alpha)"
      ],
      "metadata": {
        "colab": {
          "base_uri": "https://localhost:8080/"
        },
        "id": "SrgAEumSlv5H",
        "outputId": "270cff94-c861-4311-de20-ff18a83dba13"
      },
      "execution_count": 2,
      "outputs": [
        {
          "output_type": "stream",
          "name": "stdout",
          "text": [
            "[[1.49798   ]\n",
            " [0.99980071]]\n"
          ]
        }
      ]
    },
    {
      "cell_type": "code",
      "source": [
        "# plot the results\n",
        "plt.figure(figsize = (10,8))\n",
        "plt.plot(x, y, 'b.')\n",
        "plt.plot(x, alpha[0]*x + alpha[1], 'r')\n",
        "plt.xlabel('x')\n",
        "plt.ylabel('y')\n",
        "plt.show()"
      ],
      "metadata": {
        "colab": {
          "base_uri": "https://localhost:8080/",
          "height": 691
        },
        "id": "Om8lZDS6mEFE",
        "outputId": "ce48ede2-5787-4103-afe8-b448e79da25c"
      },
      "execution_count": 3,
      "outputs": [
        {
          "output_type": "display_data",
          "data": {
            "text/plain": [
              "<Figure size 1000x800 with 1 Axes>"
            ],
            "image/png": "[encoded data removed]"
          },
          "metadata": {}
        }
      ]
    }
  ]
}
