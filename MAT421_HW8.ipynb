{
  "nbformat": 4,
  "nbformat_minor": 0,
  "metadata": {
    "colab": {
      "provenance": [],
      "authorship_tag": "ABX9TyM0NK6UmpJYv6+/d6eeV0+t",
      "include_colab_link": true
    },
    "kernelspec": {
      "name": "python3",
      "display_name": "Python 3"
    },
    "language_info": {
      "name": "python"
    }
  },
  "cells": [
    {
      "cell_type": "markdown",
      "metadata": {
        "id": "view-in-github",
        "colab_type": "text"
      },
      "source": [
        "<a href=\"https://colab.research.google.com/github/AlexanderKClark/MAT421/blob/main/MAT421_HW8.ipynb\" target=\"_parent\"><img src=\"https://colab.research.google.com/assets/colab-badge.svg\" alt=\"Open In Colab\"/></a>"
      ]
    },
    {
      "cell_type": "markdown",
      "source": [
        "## MAT421 HW8 - Alexander Clark\n",
        "This homework covers the concepts in [21.1, 21.2, and 21.3 in the textbook](https://pythonnumericalmethods.studentorg.berkeley.edu/notebooks/chapter21.00-Numerical-Integration.html): **Numerical Integration Problem Statement**, **Riemann's Integral**, and **Trapezoid Rule**."
      ],
      "metadata": {
        "id": "a3P2cDPflsZL"
      }
    },
    {
      "cell_type": "markdown",
      "source": [
        "## 21.1 Numberical Integration Problem Statement\n",
        "Suppose we want to compute $\\int\\limits_a^bf(x)dx$. The manner in which it is computed numerically is done by creating subintervals anc calculating the area contributions of each subinterval."
      ],
      "metadata": {
        "id": "B3r92CH8mTgP"
      }
    },
    {
      "cell_type": "markdown",
      "source": [
        "## 21.2 Reimann's Integral\n",
        "Much like what we've seen in an introductory calculus course with Reimann sums as a motivation for integrals, this method created rectangles in each subinterval.\n",
        "\n",
        "$\\int\\limits_a^bf(x)dx\\approx\\sum\\limits_{i=1}^nhf(x_i)$\n",
        "\n",
        "or\n",
        "\n",
        "$\\int\\limits_a^bf(x)dx\\approx\\sum\\limits_{i=0}^{n-1}hf(x_i)$\n",
        "\n",
        "depending on which endpoint is chosen and if the midpoint is chosen then the formula is\n",
        "\n",
        "$\\int\\limits_a^bf(x)dx\\approx\\sum\\limits_{i=0}^{n-1}hf(\\frac{x_{i+1}+x_i}{2})$.\n"
      ],
      "metadata": {
        "id": "ToTuIriVnZBv"
      }
    },
    {
      "cell_type": "code",
      "source": [
        "import numpy as np\n",
        "\n",
        "a = -5\n",
        "b = 5\n",
        "n = 20\n",
        "h = (b - a) / (n - 1)\n",
        "x = np.linspace(a, b, n)\n",
        "f = np.abs(x)\n",
        "\n",
        "I_riemannL = h * sum(f[:n-1])\n",
        "err_riemannL = 2 - I_riemannL\n",
        "\n",
        "I_riemannR = h * sum(f[1::])\n",
        "err_riemannR = 2 - I_riemannR\n",
        "\n",
        "I_mid = h * sum(np.sin((x[:n-1] \\\n",
        "        + x[1:])/2))\n",
        "err_mid = 2 - I_mid\n",
        "\n",
        "print(I_riemannL)\n",
        "print(err_riemannL)\n",
        "\n",
        "print(I_riemannR)\n",
        "print(err_riemannR)\n",
        "\n",
        "print(I_mid)\n",
        "print(err_mid)"
      ],
      "metadata": {
        "colab": {
          "base_uri": "https://localhost:8080/"
        },
        "id": "0rj1ZOrDoyhx",
        "outputId": "fc0cd2b1-d944-4de5-dd26-e5407fc68a65"
      },
      "execution_count": 2,
      "outputs": [
        {
          "output_type": "stream",
          "name": "stdout",
          "text": [
            "25.069252077562325\n",
            "-23.069252077562325\n",
            "25.06925207756233\n",
            "-23.06925207756233\n",
            "0.0\n",
            "2.0\n"
          ]
        }
      ]
    },
    {
      "cell_type": "markdown",
      "source": [
        "## 21.3 Trapezoidal Rule\n",
        "The Trapezoidal Rule fits a trapezoid into each subinterval rather than rectangles to approximate the total integral. This approximation is\n",
        "\n",
        "$\\int\\limits_a^bf(x)dx\\approx\\sum\\limits_{i=0}^{n-1}h\\frac{f(x_i)+f(x_{i+1})}{2}$."
      ],
      "metadata": {
        "id": "bTFOECwXpHnb"
      }
    },
    {
      "cell_type": "code",
      "source": [
        "import numpy as np\n",
        "\n",
        "a = 0\n",
        "b = 2\n",
        "n = 20\n",
        "h = (b - a) / (n - 1)\n",
        "x = np.linspace(a, b, n)\n",
        "f = np.sinh(x)\n",
        "\n",
        "I_trap = (h/2)*(f[0] + \\\n",
        "          2 * sum(f[1:n-1]) + f[n-1])\n",
        "err_trap = 2 - I_trap\n",
        "\n",
        "print(I_trap)\n",
        "print(err_trap)"
      ],
      "metadata": {
        "colab": {
          "base_uri": "https://localhost:8080/"
        },
        "id": "bJURc1OBpzk6",
        "outputId": "4c26d8e4-2a3f-4fda-cbb2-4397705efce1"
      },
      "execution_count": 10,
      "outputs": [
        {
          "output_type": "stream",
          "name": "stdout",
          "text": [
            "2.7647457240705617\n",
            "-0.7647457240705617\n"
          ]
        }
      ]
    }
  ]
}
