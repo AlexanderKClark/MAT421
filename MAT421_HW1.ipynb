{
  "nbformat": 4,
  "nbformat_minor": 0,
  "metadata": {
    "colab": {
      "provenance": [],
      "authorship_tag": "ABX9TyP+pqzYZDWF491q9PFHl7IK",
      "include_colab_link": true
    },
    "kernelspec": {
      "name": "python3",
      "display_name": "Python 3"
    },
    "language_info": {
      "name": "python"
    }
  },
  "cells": [
    {
      "cell_type": "markdown",
      "metadata": {
        "id": "view-in-github",
        "colab_type": "text"
      },
      "source": [
        "<a href=\"https://colab.research.google.com/github/AlexanderKClark/MAT421/blob/main/MAT421_HW1.ipynb\" target=\"_parent\"><img src=\"https://colab.research.google.com/assets/colab-badge.svg\" alt=\"Open In Colab\"/></a>"
      ]
    },
    {
      "cell_type": "markdown",
      "source": [
        "# MAT421 HW1 - Alexander Clark\n",
        "This homework covers the concepts in [Chapter 9 of the textbook](https://pythonnumericalmethods.studentorg.berkeley.edu/notebooks/chapter09.00-Representation-of-Numbers.html\n",
        "): **Base-N and Binary**, **Floating Point Numbers**, and **Round-Off Errors**."
      ],
      "metadata": {
        "id": "nG6K4Za662Ls"
      }
    },
    {
      "cell_type": "markdown",
      "source": [
        "# 9.1 Base-N and Binary\n",
        "We are taught decimal notation when we are in our youth, which is a positional number system. This means that the position of any given digit represents a multiple of a power of ten. For instance, consider the base 10 expansion of the number 37,465:\n",
        "\\begin{equation}\n",
        "37,465 = 3 × 10^4 + 7 × 10^3 + 4 × 10^2 + 6 × 10^1 + 5 × 10^0\n",
        "\\end{equation}\n",
        "\n",
        "Note, however, that for some positive integer $b>1$, every positive integer $n$ can be expressed in the form\n",
        "\\begin{equation}\n",
        "n=a_kb^k+a_{k-1}b^{k-1}+\\cdots+a_1b+a_0\n",
        "\\end{equation}\n",
        "where $k$ is a nonnegative integer, $a_j$ is an integer with $0\\leq a_j \\leq b-1$ for $j=0,1,\\ldots k$, and the initial coefficient $a_k \\neq 0$. As such, any positive integer greater than 1 can be used as a base. (This theorem comes from my number theory textbook.)\n",
        "\n",
        "Some common bases used are [base 2](https://en.wikipedia.org/wiki/Binary_number), [base 8](https://en.wikipedia.org/wiki/Octal), and [base 16](https://en.wikipedia.org/wiki/Hexadecimal). They are called binary, octal, and hexadecimal respectively."
      ],
      "metadata": {
        "id": "U1KsWp3hsKiK"
      }
    },
    {
      "cell_type": "markdown",
      "source": [
        "Consider the following conversions:\n",
        "\\begin{equation}\n",
        "25\\; (\\textit{base } 10) = 1×2^4 + 1×2^3 + 0×2^2 +0×2^1 + 1×2^0\n",
        "\\end{equation}\n",
        "\n",
        "And so 25 in decimal is 11001 in binary."
      ],
      "metadata": {
        "id": "vC1fB_HF1OB0"
      }
    },
    {
      "cell_type": "code",
      "source": [
        "decimal_number = 25\n",
        "binary_number = bin(decimal_number)[2:] #\"[2:]\" is used to remove the redundant prefix\n",
        "\n",
        "print(binary_number)"
      ],
      "metadata": {
        "id": "FKPWKKa0vvmX",
        "colab": {
          "base_uri": "https://localhost:8080/"
        },
        "outputId": "76728947-3437-427f-c37e-378564beff7f"
      },
      "execution_count": null,
      "outputs": [
        {
          "output_type": "stream",
          "name": "stdout",
          "text": [
            "11001\n"
          ]
        }
      ]
    },
    {
      "cell_type": "markdown",
      "source": [
        "\\begin{equation}\n",
        "1010100\\; (\\textit{base } 2) = 1×2^6 + 0×2^5 + 1×2^4 + 0×2^3 + 1×2^2 + 0×2^1 + 0×2^0 = 84\n",
        "\\end{equation}\n",
        "\n",
        "And so 1010100 in binary is 84 in decimal."
      ],
      "metadata": {
        "id": "xoIwshn23OtC"
      }
    },
    {
      "cell_type": "code",
      "source": [
        "binary_number = \"1010100\"\n",
        "decimal_number = int(binary_number, 2)\n",
        "print(decimal_number)"
      ],
      "metadata": {
        "colab": {
          "base_uri": "https://localhost:8080/"
        },
        "id": "wwkpq8m92Zu3",
        "outputId": "aeb9e07d-7309-4c67-957d-54e7504c4edf"
      },
      "execution_count": null,
      "outputs": [
        {
          "output_type": "stream",
          "name": "stdout",
          "text": [
            "84\n"
          ]
        }
      ]
    },
    {
      "cell_type": "markdown",
      "source": [
        "Now, suppose we want to convert to octal from hexadecimal and we have F6A in hexadecimal.\n",
        "\\begin{equation}\n",
        "\\text{F6A}\\; (\\textit{base } 16) = 15×16^2\n",
        "+6×16^1+10*16^0=3946 \\; (\\textit{base } 10)\n",
        "\\end{equation}\n",
        "\n",
        "\\begin{equation}\n",
        "3946\\;(\\textit{base } 10) = 7×8^3+5×8^2+5×8^1+2×8^0 = 7552 \\; (\\textit{base } 8)\n",
        "\\end{equation}\n",
        "\n",
        "And so F6A in hexadecimal is 7552 in octal."
      ],
      "metadata": {
        "id": "Ag1DCxDi955g"
      }
    },
    {
      "cell_type": "code",
      "source": [
        "hexadecimal_number = \"F6A\"\n",
        "decimal_number = int(hexadecimal_number, 16)\n",
        "octal_number = oct(decimal_number)[2:] #\"[2:]\" is used to remove the redundant prefix\n",
        "print(octal_number)"
      ],
      "metadata": {
        "colab": {
          "base_uri": "https://localhost:8080/"
        },
        "id": "JzZR_zYQ4S6a",
        "outputId": "d39c2582-708b-4906-bdd2-67244f17b7cd"
      },
      "execution_count": null,
      "outputs": [
        {
          "metadata": {
            "tags": null
          },
          "name": "stdout",
          "output_type": "stream",
          "text": [
            "7552\n"
          ]
        }
      ]
    },
    {
      "cell_type": "markdown",
      "source": [
        "Arithmetic operations hold in other bases so long as the operation is done with respect to the base. Consider:"
      ],
      "metadata": {
        "id": "kU_TwwbVDCrj"
      }
    },
    {
      "cell_type": "code",
      "source": [
        "115 + 30"
      ],
      "metadata": {
        "colab": {
          "base_uri": "https://localhost:8080/"
        },
        "id": "GwX-8TgzDxsA",
        "outputId": "b72271b3-b8b5-4760-f2f7-93a0afc035b3"
      },
      "execution_count": null,
      "outputs": [
        {
          "output_type": "execute_result",
          "data": {
            "text/plain": [
              "145"
            ]
          },
          "metadata": {},
          "execution_count": 12
        }
      ]
    },
    {
      "cell_type": "code",
      "source": [
        "import numpy as np\n",
        "decimal_number1 = \"115\"\n",
        "decimal_number2 = \"30\"\n",
        "base7_number1 = int(decimal_number1,7)\n",
        "base7_number2 = int(decimal_number2,7)\n",
        "sum=np.base_repr(base7_number1+base7_number2,7) #string representation of the first argument in the base of the second argument\n",
        "print(sum)"
      ],
      "metadata": {
        "colab": {
          "base_uri": "https://localhost:8080/"
        },
        "id": "XbiRuhAoD1xn",
        "outputId": "bd66892c-086f-465c-d681-51158fd199c5"
      },
      "execution_count": null,
      "outputs": [
        {
          "output_type": "stream",
          "name": "stdout",
          "text": [
            "145\n"
          ]
        }
      ]
    },
    {
      "cell_type": "markdown",
      "source": [
        "# 9.2 Floating Point Numbers\n",
        "Any given floating point number can be partitioned into three constituent parts:\n",
        "\n",
        "* the sign indicator $s$ which is allocated with 1 bit in IEEE 754\n",
        "* the exponent $e$ which is allocated with 11 bits in IEEE 754\n",
        "* the fraction $f$ which is allocated with 52 bits in IEEE 754\n",
        "\n",
        "As such, a float is represented as\n",
        "\\begin{equation}\n",
        "n=(-1)^s2^{e-1023}(1+f)\n",
        "\\end{equation}\n",
        "\n",
        "This has greater precision at small values and little precision at great values."
      ],
      "metadata": {
        "id": "UD8FwwTiHhhh"
      }
    },
    {
      "cell_type": "markdown",
      "source": [
        "Suppose we have the following:\n",
        "\n",
        "1 10000000010 1000000000000000000000000000000000000000000000000000\n",
        "\n",
        "Then, $s=1$, $e=1026$, and $f=1×\\frac{1}{2^1}+0×\\frac{1}{2^2}+\\cdots=0.5$."
      ],
      "metadata": {
        "id": "va7lt1pKJ-75"
      }
    },
    {
      "cell_type": "code",
      "source": [
        "s_binary = \"1\"\n",
        "s_decimal = int(s_binary, 2)\n",
        "print(s_decimal)\n",
        "\n",
        "e_binary = \"10000000010\"\n",
        "e_decimal = int(e_binary, 2)\n",
        "print(e_decimal)"
      ],
      "metadata": {
        "colab": {
          "base_uri": "https://localhost:8080/"
        },
        "id": "Q7MTDf8JKUWn",
        "outputId": "26e02ddc-4140-4a6e-d614-54e02c4ea980"
      },
      "execution_count": null,
      "outputs": [
        {
          "output_type": "stream",
          "name": "stdout",
          "text": [
            "1\n",
            "1026\n"
          ]
        }
      ]
    },
    {
      "cell_type": "markdown",
      "source": [
        "Then, $n=(-1)^12^{1026-1023}(1+0.5)=-1×2^3×1.5=-12.0$"
      ],
      "metadata": {
        "id": "yKF0skkBLW3G"
      }
    },
    {
      "cell_type": "markdown",
      "source": [
        "Unfortunately, all values less than half of a gap away will result in the same number."
      ],
      "metadata": {
        "id": "NRd2Fh5nOpGa"
      }
    },
    {
      "cell_type": "code",
      "source": [
        "import numpy as np\n",
        "print(np.spacing(1e9))\n",
        "1e9 == (1e9 + np.spacing(1e9)/3)"
      ],
      "metadata": {
        "colab": {
          "base_uri": "https://localhost:8080/"
        },
        "id": "oGi_lt4ZLkY2",
        "outputId": "c4239eab-93d5-4b9d-fc8a-f3aec042e96a"
      },
      "execution_count": null,
      "outputs": [
        {
          "output_type": "stream",
          "name": "stdout",
          "text": [
            "1.1920928955078125e-07\n"
          ]
        },
        {
          "output_type": "execute_result",
          "data": {
            "text/plain": [
              "True"
            ]
          },
          "metadata": {},
          "execution_count": 46
        }
      ]
    },
    {
      "cell_type": "markdown",
      "source": [
        "There are some special cases for the output of specific floats.\n",
        "\n"
      ],
      "metadata": {
        "id": "9k0zrQa1PkUp"
      }
    },
    {
      "cell_type": "code",
      "source": [
        "import sys\n",
        "n=sys.float_info.max + sys.float_info.max\n",
        "print(n)"
      ],
      "metadata": {
        "colab": {
          "base_uri": "https://localhost:8080/"
        },
        "id": "GVkXvZxEP7Gq",
        "outputId": "140b56f8-4745-4482-dee5-8d36115e157d"
      },
      "execution_count": null,
      "outputs": [
        {
          "output_type": "stream",
          "name": "stdout",
          "text": [
            "inf\n"
          ]
        }
      ]
    },
    {
      "cell_type": "code",
      "source": [
        "import sys\n",
        "n=sys.float_info.min - sys.float_info.min\n",
        "print(n)"
      ],
      "metadata": {
        "colab": {
          "base_uri": "https://localhost:8080/"
        },
        "id": "qvavfzAvQCk5",
        "outputId": "870ba1b7-dce1-4346-b986-4962c8a98cff"
      },
      "execution_count": null,
      "outputs": [
        {
          "output_type": "stream",
          "name": "stdout",
          "text": [
            "0.0\n"
          ]
        }
      ]
    },
    {
      "cell_type": "markdown",
      "source": [
        "# 9.3 Round-Off Errors\n",
        "Since floating point numbers cannot be stored with exact precision, arithmetic with them will produce round-off errors. This is the difference between the computed approximation and the correct value. This is promionent when doing arithmetic with irrational or repeating rational numbers. The error will also accumulate if the operations continue."
      ],
      "metadata": {
        "id": "Zz85oWsZRWRU"
      }
    },
    {
      "cell_type": "markdown",
      "source": [
        "Consider the following:"
      ],
      "metadata": {
        "id": "mLpoliNSSjol"
      }
    },
    {
      "cell_type": "code",
      "source": [
        "print(0.1 + 0.2 + 0.3 == 0.6)\n",
        "print(0.1 + 0.2 + 0.3)"
      ],
      "metadata": {
        "colab": {
          "base_uri": "https://localhost:8080/"
        },
        "id": "FewiZB7WSgID",
        "outputId": "0c47f8d6-8137-43a3-baec-930d942c0827"
      },
      "execution_count": null,
      "outputs": [
        {
          "output_type": "stream",
          "name": "stdout",
          "text": [
            "False\n",
            "0.6000000000000001\n"
          ]
        }
      ]
    },
    {
      "cell_type": "markdown",
      "source": [
        "However, the `round()` function can be used so the inexact result of the arithmetic can be comparable to the intended result."
      ],
      "metadata": {
        "id": "1t7MA0XKS2Gh"
      }
    },
    {
      "cell_type": "code",
      "source": [
        "round(0.1 + 0.2 + 0.3,15)==0.6"
      ],
      "metadata": {
        "colab": {
          "base_uri": "https://localhost:8080/"
        },
        "id": "t0NZGqqMSwi5",
        "outputId": "66eaeac7-3398-42c7-e107-85281413643e"
      },
      "execution_count": null,
      "outputs": [
        {
          "output_type": "execute_result",
          "data": {
            "text/plain": [
              "True"
            ]
          },
          "metadata": {},
          "execution_count": 58
        }
      ]
    },
    {
      "cell_type": "markdown",
      "source": [
        "As aforementioned, consider the following for the accumulation of the round-off error."
      ],
      "metadata": {
        "id": "I3N-Su_WTnQY"
      }
    },
    {
      "cell_type": "code",
      "source": [
        "1 + 1/3 - 1/3"
      ],
      "metadata": {
        "colab": {
          "base_uri": "https://localhost:8080/"
        },
        "id": "nekVbRUKT4y3",
        "outputId": "5b0829f9-b319-4a45-e9e0-43cbdce7eed1"
      },
      "execution_count": null,
      "outputs": [
        {
          "output_type": "execute_result",
          "data": {
            "text/plain": [
              "1.0"
            ]
          },
          "metadata": {},
          "execution_count": 62
        }
      ]
    },
    {
      "cell_type": "code",
      "source": [
        "def add_and_subtract(iterations):\n",
        "    result = 1\n",
        "\n",
        "    for i in range(iterations):\n",
        "        result += 1/3\n",
        "\n",
        "    for i in range(iterations):\n",
        "        result -= 1/3\n",
        "    return result"
      ],
      "metadata": {
        "id": "xRTHSyyQT-cM"
      },
      "execution_count": null,
      "outputs": []
    },
    {
      "cell_type": "code",
      "source": [
        "add_and_subtract(100)"
      ],
      "metadata": {
        "colab": {
          "base_uri": "https://localhost:8080/"
        },
        "id": "Y1_DEM2UUHIn",
        "outputId": "ff9fe809-571e-4c8b-f995-34b53212861f"
      },
      "execution_count": null,
      "outputs": [
        {
          "output_type": "execute_result",
          "data": {
            "text/plain": [
              "1.0000000000000002"
            ]
          },
          "metadata": {},
          "execution_count": 64
        }
      ]
    },
    {
      "cell_type": "code",
      "source": [
        "add_and_subtract(1000)"
      ],
      "metadata": {
        "colab": {
          "base_uri": "https://localhost:8080/"
        },
        "id": "y3B73f4HUK-H",
        "outputId": "dacbebe1-4297-41e4-f328-5d798119ab8b"
      },
      "execution_count": null,
      "outputs": [
        {
          "output_type": "execute_result",
          "data": {
            "text/plain": [
              "1.0000000000000064"
            ]
          },
          "metadata": {},
          "execution_count": 71
        }
      ]
    },
    {
      "cell_type": "code",
      "source": [
        "add_and_subtract(10000)"
      ],
      "metadata": {
        "colab": {
          "base_uri": "https://localhost:8080/"
        },
        "id": "ZwbVTFa-UNJs",
        "outputId": "687e663e-316b-4bb2-ae80-dec0c5d10cc5"
      },
      "execution_count": null,
      "outputs": [
        {
          "output_type": "execute_result",
          "data": {
            "text/plain": [
              "1.0000000000001166"
            ]
          },
          "metadata": {},
          "execution_count": 72
        }
      ]
    },
    {
      "cell_type": "code",
      "source": [
        "add_and_subtract(10000000)"
      ],
      "metadata": {
        "colab": {
          "base_uri": "https://localhost:8080/"
        },
        "id": "HDdyqilYUQ5d",
        "outputId": "c7f8b287-b31b-407d-ce8f-56eced8a4024"
      },
      "execution_count": null,
      "outputs": [
        {
          "output_type": "execute_result",
          "data": {
            "text/plain": [
              "1.0000000000309683"
            ]
          },
          "metadata": {},
          "execution_count": 79
        }
      ]
    }
  ]
}